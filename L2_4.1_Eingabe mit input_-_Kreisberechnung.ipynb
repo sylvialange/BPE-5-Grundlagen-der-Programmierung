{
 "cells": [
  {
   "cell_type": "markdown",
   "metadata": {
    "nbgrader": {
     "grade": false,
     "grade_id": "cell-caf76b42cc900680",
     "locked": true,
     "schema_version": 3,
     "solution": false,
     "task": false
    }
   },
   "source": [
    "# L2_4.1\tEingabe mit input – Kreisberechnung\n",
    "\n",
    "**Hinweis**\tBeachten Sie zur Bearbeitung der nachfolgenden Aufgabenstellungen das Informationsmaterial\n",
    "\n",
    "+ L2_4_1 Information_Eingabe_input_string.docx \n",
    "+ L2_4_2 Information_Eingabe_input_zahlen.docx.\n",
    "+ Oder alternativ das Video über input auf https://sylvialange.de/python/videos.html\n",
    "\n",
    "## Problemstellung\n",
    "Schreiben Sie ein Programm, das den Inhalt einer Kreisfläche berechnet. Der Benutzer soll den Radius im Programm auf Aufforderung eingeben. Das Programm errechnet die passende Kreisfläche und gibt das Ergebnis aus.\n",
    "Formel: \n",
    "\n",
    "Kreisfläche = Radius * Radius * pi\n",
    "\n",
    "**Hinweis** Statt mit dem exakten pi, darf einfach mit 3.14 gerechnet werden.\n",
    "\n",
    "## Bildschirmausgabe mit Beispieleingabe r = 10\n",
    "\n",
    "    Bitte den Radius eingeben: 10\n",
    "    Der Inhalt der Kreisfläche beträgt: 314.0\n",
    "\n",
    "## Dein Programmcode"
   ]
  },
  {
   "cell_type": "code",
   "execution_count": null,
   "metadata": {
    "nbgrader": {
     "grade": false,
     "grade_id": "cell-53d31748ea14a687",
     "locked": false,
     "schema_version": 3,
     "solution": true,
     "task": false
    }
   },
   "outputs": [],
   "source": [
    "r = float(input(\"Bitte den Radius eingeben: \"))\n",
    "a = 3.14 * r* r\n",
    "print(\"Der Inhalt der Kreisfläche beträgt: \", a)"
   ]
  }
 ],
 "metadata": {
  "celltoolbar": "Create Assignment",
  "kernelspec": {
   "display_name": "Python 3",
   "language": "python",
   "name": "python3"
  },
  "language_info": {
   "codemirror_mode": {
    "name": "ipython",
    "version": 3
   },
   "file_extension": ".py",
   "mimetype": "text/x-python",
   "name": "python",
   "nbconvert_exporter": "python",
   "pygments_lexer": "ipython3",
   "version": "3.7.3"
  }
 },
 "nbformat": 4,
 "nbformat_minor": 4
}
