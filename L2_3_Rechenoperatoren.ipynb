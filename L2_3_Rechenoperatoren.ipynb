{
 "cells": [
  {
   "cell_type": "markdown",
   "metadata": {
    "nbgrader": {
     "grade": false,
     "grade_id": "cell-87c32d0572331cae",
     "locked": true,
     "schema_version": 3,
     "solution": false,
     "task": false
    }
   },
   "source": [
    "# L2_3\tRechenoperatoren\n",
    "**Hinweis:** Beachten Sie zur Bearbeitung der nachfolgenden Aufgabenstellungen das Informationsmaterial L2_3 Information Rechenoperatoren.\n",
    "\n",
    "## Problemstellung\n",
    "Entwerfen Sie ein Programm, das die Rechenoperationen plus, minus, mal, geteilt und hoch durchführt. Definieren Sie dazu zwei Variablen, die Sie für die Berechnungen nutzen und geben Sie das Ergebnis am Bildschirm aus.\n",
    "\n",
    "## Bildschirmausgabe bei den Beispielzahlen 13 und 7\n",
    "\n",
    "    Zahl1: 13\n",
    "    Zahl2: 7\n",
    "    --------------------\n",
    "    Addition: 20\n",
    "    Subtraktion: 6\n",
    "    Multiplikation: 91\n",
    "    Division: 1.85714285....\n",
    "    Potenz: 62748517\n",
    "    \n",
    "## Dein Programmcode"
   ]
  },
  {
   "cell_type": "code",
   "execution_count": null,
   "metadata": {
    "nbgrader": {
     "grade": false,
     "grade_id": "cell-6567d54074ac19fe",
     "locked": false,
     "schema_version": 3,
     "solution": true,
     "task": false
    }
   },
   "outputs": [],
   "source": [
    "a = float(input(\"Zahl1: \"))\n",
    "b = float(input(\"Zahl2: \"))\n",
    "print(\"------------------------\")\n",
    "print(\"Addition: \", a+b)\n",
    "print(\"Subtraktion: \", a-b)\n",
    "print(\"Multiplikation: \", a*b)\n",
    "print(\"Division: \", a/b)\n",
    "print(\"Potenz: \", a**b)"
   ]
  }
 ],
 "metadata": {
  "celltoolbar": "Create Assignment",
  "kernelspec": {
   "display_name": "Python 3",
   "language": "python",
   "name": "python3"
  },
  "language_info": {
   "codemirror_mode": {
    "name": "ipython",
    "version": 3
   },
   "file_extension": ".py",
   "mimetype": "text/x-python",
   "name": "python",
   "nbconvert_exporter": "python",
   "pygments_lexer": "ipython3",
   "version": "3.7.3"
  }
 },
 "nbformat": 4,
 "nbformat_minor": 4
}
