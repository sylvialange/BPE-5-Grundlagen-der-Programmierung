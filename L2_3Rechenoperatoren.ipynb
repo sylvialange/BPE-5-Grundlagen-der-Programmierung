{
 "cells": [
  {
   "cell_type": "markdown",
   "metadata": {
    "nbgrader": {
     "grade": false,
     "grade_id": "cell-c4fdff88cbfc2dd2",
     "locked": true,
     "schema_version": 3,
     "solution": false,
     "task": false
    }
   },
   "source": [
    "# L2_3\tRechenoperatoren\n",
    "\n",
    "### Hinweis:\t\n",
    "Beachten Sie zur Bearbeitung der nachfolgenden Aufgabenstellungen das Informations-material L2_3 Information Rechenoperatoren.\n"
   ]
  },
  {
   "cell_type": "markdown",
   "metadata": {
    "nbgrader": {
     "grade": false,
     "grade_id": "cell-26e3eb4eb86b1391",
     "locked": true,
     "schema_version": 3,
     "solution": false,
     "task": false
    }
   },
   "source": [
    "# (I) Problemstellung\n",
    "-----------------------\n",
    "Entwerfen Sie ein Programm, das die Rechenoperationen plus, minus, mal, geteilt und hoch durch-führt. Definieren Sie dazu zwei Variablen, die Sie für die Berechnungen nutzen und geben Sie das Ergebnis am Bildschirm aus.\n",
    "\n",
    "Speichern Sie Ihre Lösung in Ihrem Ergebnisordner unter dem Namen\n",
    "*L2_3_Loesung_Rechenoperatoren.py*."
   ]
  },
  {
   "cell_type": "markdown",
   "metadata": {
    "nbgrader": {
     "grade": false,
     "grade_id": "cell-7eb56ea973c667d2",
     "locked": true,
     "schema_version": 3,
     "solution": false,
     "task": false
    }
   },
   "source": [
    "# (II) Problemanalyse\n",
    "-----------\n",
    "(1)\tWelche Ausgabedaten will man erhalten?\n",
    "\n"
   ]
  },
  {
   "cell_type": "markdown",
   "metadata": {
    "nbgrader": {
     "grade": true,
     "grade_id": "cell-2d140d1587d2c642",
     "locked": false,
     "points": 0,
     "schema_version": 3,
     "solution": true,
     "task": false
    }
   },
   "source": [
    "### BEGIN SOLUTION\n",
    "Das Ergebnis von Berechnungen: Summe, Differenz, Produkt, Quotient, Potenz\n",
    "### END SOLUTION\n"
   ]
  },
  {
   "cell_type": "markdown",
   "metadata": {
    "nbgrader": {
     "grade": false,
     "grade_id": "cell-9874405de5e84f61",
     "locked": true,
     "schema_version": 3,
     "solution": false,
     "task": false
    }
   },
   "source": [
    "(2)\tWelche Daten werden zur Bearbeitung benötigt?"
   ]
  },
  {
   "cell_type": "markdown",
   "metadata": {
    "nbgrader": {
     "grade": true,
     "grade_id": "cell-7bbb55f7ae55f9c6",
     "locked": false,
     "points": 0,
     "schema_version": 3,
     "solution": true,
     "task": false
    }
   },
   "source": [
    "### BEGIN SOLUTION\n",
    "Zwei Zahlen\n",
    "### END SOLUTION\n"
   ]
  },
  {
   "cell_type": "markdown",
   "metadata": {
    "nbgrader": {
     "grade": false,
     "grade_id": "cell-9bbe7b6d33d897bf",
     "locked": true,
     "schema_version": 3,
     "solution": false,
     "task": false
    }
   },
   "source": [
    "(3)\tWelche Eigenschaften haben die Ausgabedaten? (Variablenliste)"
   ]
  },
  {
   "cell_type": "markdown",
   "metadata": {
    "nbgrader": {
     "grade": true,
     "grade_id": "cell-fe50fd8b86a584de",
     "locked": false,
     "points": 0,
     "schema_version": 3,
     "solution": true,
     "task": false
    }
   },
   "source": [
    "|Bedeutung\t|Inhalt\t|Variablenname|\n",
    "| :--- | :--- | :--- |\n",
    "|hier | kommt deine| Lösung hin:|\n",
    "### BEGIN SOLUTION\n",
    "|Erste Zahl\t|Ganzzahl\t|zahl1|\n",
    "|Zweite Zahl |Ganzzahl\t|zahl2|\n",
    "|Summe |Ganzzahl |addition|\n",
    "|Differenz |Ganzzahl|Subtraktion|\n",
    "|Produkt |Ganzzahl\t|Multiplikation|\n",
    "|Quotient|Kommazahl\t|Division|\n",
    "|Potenz\t|Ganzzahl\t|Potenz|\n",
    "### END SOLUTION"
   ]
  },
  {
   "cell_type": "markdown",
   "metadata": {
    "nbgrader": {
     "grade": false,
     "grade_id": "cell-6013947b4d9a561c",
     "locked": true,
     "schema_version": 3,
     "solution": false,
     "task": false
    }
   },
   "source": [
    "(4)\tSo soll die Bildschirmausgabe des Programms aussehen (Beispielzahlen 13 und 7):\n",
    "\n",
    ">Zahl1: 13, Zahl2: 7<br>\n",
    ">Addition: 20<br>\n",
    ">Subtraktion: 6<br>\n",
    ">Multiplikation: 91<br>\n",
    ">Division: 1.8571428571428572<br>\n",
    ">Potenz: 62748517\n",
    "\n",
    "# (III) Struktogramm\n",
    "--------------"
   ]
  },
  {
   "cell_type": "markdown",
   "metadata": {
    "nbgrader": {
     "grade": true,
     "grade_id": "cell-48e7489e0987d93c",
     "locked": false,
     "points": 0,
     "schema_version": 3,
     "solution": true,
     "task": false
    }
   },
   "source": [
    "### BEGIN SOLUTION\n",
    "Struktogramm\n",
    "### END SOLUTION"
   ]
  },
  {
   "cell_type": "markdown",
   "metadata": {
    "nbgrader": {
     "grade": false,
     "grade_id": "cell-b955035ac0e5b957",
     "locked": true,
     "schema_version": 3,
     "solution": false,
     "task": false
    }
   },
   "source": [
    "# (IV) Programmcode (Python-Code)\n",
    "----------------"
   ]
  },
  {
   "cell_type": "code",
   "execution_count": null,
   "metadata": {
    "nbgrader": {
     "grade": true,
     "grade_id": "cell-549bc9145944814b",
     "locked": false,
     "points": 0,
     "schema_version": 3,
     "solution": true,
     "task": false
    }
   },
   "outputs": [],
   "source": [
    "### BEGIN SOLUTION\n",
    "zahl1 = 13\n",
    "zahl2 = 7\n",
    "\n",
    "# Durchführen aller Berechnungen:\n",
    "addition = zahl1 + zahl2\n",
    "subtraktion = zahl1 - zahl2\n",
    "multiplikation = zahl1 * zahl2\n",
    "division = zahl1 / zahl2\n",
    "potenz = zahl1 ** zahl2\n",
    "\n",
    "# Ausgabe\n",
    "# Überschrift\n",
    "print(\"Zahl1:\", zahl1, \"Zahl2:\", zahl2) \n",
    "print(\"-------------------\")\n",
    "\n",
    "# Ergebnisse\n",
    "print(\"Addition:\", addition)\n",
    "print(\"Subtraktion:\", subtraktion)\n",
    "print(\"Multiplikation:\", multiplikation)\n",
    "print(\"Division:\", division)\n",
    "print(\"Potenz:\", potenz)\n",
    "### END SOLUTION"
   ]
  }
 ],
 "metadata": {
  "celltoolbar": "Create Assignment",
  "kernelspec": {
   "display_name": "Python 3",
   "language": "python",
   "name": "python3"
  },
  "language_info": {
   "codemirror_mode": {
    "name": "ipython",
    "version": 3
   },
   "file_extension": ".py",
   "mimetype": "text/x-python",
   "name": "python",
   "nbconvert_exporter": "python",
   "pygments_lexer": "ipython3",
   "version": "3.7.3"
  }
 },
 "nbformat": 4,
 "nbformat_minor": 2
}
