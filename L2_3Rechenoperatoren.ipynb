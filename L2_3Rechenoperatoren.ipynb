{
 "cells": [
  {
   "cell_type": "markdown",
   "metadata": {},
   "source": [
    "# L2_3\tRechenoperatoren\n",
    "\n",
    "### Hinweis:\t\n",
    "Beachten Sie zur Bearbeitung der nachfolgenden Aufgabenstellungen das Informations-material L2_3 Information Rechenoperatoren.\n"
   ]
  },
  {
   "cell_type": "markdown",
   "metadata": {},
   "source": [
    "# (I) Problemstellung\n",
    "-----------------------\n",
    "Entwerfen Sie ein Programm, das die Rechenoperationen plus, minus, mal, geteilt und hoch durch-führt. Definieren Sie dazu zwei Variablen, die Sie für die Berechnungen nutzen und geben Sie das Ergebnis am Bildschirm aus.\n",
    "\n",
    "Speichern Sie Ihre Lösung in Ihrem Ergebnisordner unter dem Namen\n",
    "*L2_3_Loesung_Rechenoperatoren.py*."
   ]
  },
  {
   "cell_type": "markdown",
   "metadata": {},
   "source": [
    "# (II) Problemanalyse\n",
    "-----------\n",
    "(1)\tWelche Ausgabedaten will man erhalten?\n",
    "\n"
   ]
  },
  {
   "cell_type": "code",
   "execution_count": null,
   "metadata": {},
   "outputs": [],
   "source": [
    "### BEGIN SOLUTION\n",
    "Das Ergebnis von Berechnungen: Summe, Differenz, Produkt, Quotient, Potenz\n",
    "### END SOLUTION\n"
   ]
  },
  {
   "cell_type": "markdown",
   "metadata": {},
   "source": [
    "(2)\tWelche Daten werden zur Bearbeitung benötigt?"
   ]
  },
  {
   "cell_type": "code",
   "execution_count": null,
   "metadata": {},
   "outputs": [],
   "source": [
    "### BEGIN SOLUTION\n",
    "Zwei Zahlen\n",
    "### END SOLUTION\n"
   ]
  },
  {
   "cell_type": "markdown",
   "metadata": {},
   "source": [
    "(3)\tWelche Eigenschaften haben die Ausgabedaten? (Variablenliste)"
   ]
  },
  {
   "cell_type": "markdown",
   "metadata": {},
   "source": [
    "|Bedeutung\t|Inhalt\t|Variablenname|\n",
    "| :--- | :--- | :--- |\n",
    "|hier | kommt deine| Lösung hin:|\n",
    "### BEGIN SOLUTION\n",
    "|Erste Zahl\t|Ganzzahl\t|zahl1|\n",
    "|Zweite Zahl\t|Ganzzahl\t|zahl2|\n",
    "|Summe\t|Ganzzahl\t|addition|\n",
    "|Differenz\t|Ganzzahl\t|subtraktion|\n",
    "|Produkt\t|Ganzzahl\t|multiplikation|\n",
    "|Quotient\t|Kommazahl\t|division|\n",
    "|Potenz\t|Ganzzahl\t|potenz|\n",
    "### END SOLUTION"
   ]
  },
  {
   "attachments": {},
   "cell_type": "markdown",
   "metadata": {},
   "source": [
    "(4)\tSo soll die Bildschirmausgabe des Programms aussehen (Beispielzahlen 13 und 7):\n",
    "\n",
    ">Zahl1: 13, Zahl2: 7<br>\n",
    ">Addition: 20<br>\n",
    ">Subtraktion: 6<br>\n",
    ">Multiplikation: 91<br>\n",
    ">Division: 1.8571428571428572<br>\n",
    ">Potenz: 62748517\n"
   ]
  },
  {
   "cell_type": "markdown",
   "metadata": {},
   "source": [
    "# (III) Struktogramm\n",
    "--------------"
   ]
  },
  {
   "cell_type": "code",
   "execution_count": null,
   "metadata": {},
   "outputs": [],
   "source": [
    "### BEGIN SOLUTION\n",
    "Struktogramm\n",
    "### END SOLUTION"
   ]
  },
  {
   "cell_type": "markdown",
   "metadata": {},
   "source": [
    "# (IV) Programmcode (Python-Code)\n",
    "----------------"
   ]
  },
  {
   "cell_type": "code",
   "execution_count": null,
   "metadata": {},
   "outputs": [],
   "source": [
    "### BEGIN SOLUTION\n",
    "zahl1 = 13\n",
    "zahl2 = 7\n",
    "\n",
    "# Durchführen aller Berechnungen:\n",
    "addition = zahl1 + zahl2\n",
    "subtraktion = zahl1 - zahl2\n",
    "multiplikation = zahl1 * zahl2\n",
    "division = zahl1 / zahl2\n",
    "potenz = zahl1 ** zahl2\n",
    "\n",
    "# Ausgabe\n",
    "# Überschrift\n",
    "print(\"Zahl1:\", zahl1, \"Zahl2:\", zahl2) \n",
    "print(\"-------------------\")\n",
    "\n",
    "# Ergebnisse\n",
    "print(\"Addition:\", addition)\n",
    "print(\"Subtraktion:\", subtraktion)\n",
    "print(\"Multiplikation:\", multiplikation)\n",
    "print(\"Division:\", division)\n",
    "print(\"Potenz:\", potenz)\n",
    "### END SOLUTION"
   ]
  }
 ],
 "metadata": {
  "kernelspec": {
   "display_name": "Python 3",
   "language": "python",
   "name": "python3"
  },
  "language_info": {
   "codemirror_mode": {
    "name": "ipython",
    "version": 3
   },
   "file_extension": ".py",
   "mimetype": "text/x-python",
   "name": "python",
   "nbconvert_exporter": "python",
   "pygments_lexer": "ipython3",
   "version": "3.7.4"
  }
 },
 "nbformat": 4,
 "nbformat_minor": 2
}
